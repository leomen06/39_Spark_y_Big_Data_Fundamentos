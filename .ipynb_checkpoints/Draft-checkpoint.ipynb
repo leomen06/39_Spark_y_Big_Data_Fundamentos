{
 "cells": [
  {
   "cell_type": "code",
   "execution_count": 5,
   "id": "0d29332e",
   "metadata": {},
   "outputs": [],
   "source": [
    "states = [\"California\", \"New York\", \"Florida\", \"Vermont\", \"California\"]"
   ]
  },
  {
   "cell_type": "code",
   "execution_count": 7,
   "id": "7d42231b",
   "metadata": {},
   "outputs": [
    {
     "name": "stdout",
     "output_type": "stream",
     "text": [
      "California cuantity: 2\n"
     ]
    }
   ],
   "source": [
    "states_new_list=[est for est in states if est == 'California' ]\n",
    "states_new_list\n",
    "#After this I will count\n",
    "\n",
    "print(f'California quantity: {len(states_new_list)}')"
   ]
  },
  {
   "cell_type": "code",
   "execution_count": 89,
   "id": "ecb1690e",
   "metadata": {},
   "outputs": [],
   "source": [
    "from pyspark import SparkContext\n",
    "from pyspark.sql import SparkSession, SQLContext, functions as f\n",
    "from pyspark.sql.types import StructField, StructType, IntegerType, StringType, FloatType\n",
    "from IPython.display import display"
   ]
  },
  {
   "cell_type": "code",
   "execution_count": 6,
   "id": "7847c575",
   "metadata": {},
   "outputs": [
    {
     "name": "stderr",
     "output_type": "stream",
     "text": [
      "23/11/13 16:45:16 WARN Utils: Your hostname, CompuDell01 resolves to a loopback address: 127.0.1.1; using 192.168.29.145 instead (on interface eth0)\n",
      "23/11/13 16:45:16 WARN Utils: Set SPARK_LOCAL_IP if you need to bind to another address\n",
      "Setting default log level to \"WARN\".\n",
      "To adjust logging level use sc.setLogLevel(newLevel). For SparkR, use setLogLevel(newLevel).\n",
      "23/11/13 16:45:18 WARN NativeCodeLoader: Unable to load native-hadoop library for your platform... using builtin-java classes where applicable\n"
     ]
    }
   ],
   "source": [
    "spark=SparkSession.builder\\\n",
    "    .master('local')\\\n",
    "    .appName('test_session_01')\\\n",
    "    .getOrCreate()"
   ]
  },
  {
   "cell_type": "code",
   "execution_count": 14,
   "id": "f3fa046d",
   "metadata": {},
   "outputs": [
    {
     "name": "stdout",
     "output_type": "stream",
     "text": [
      "/home/compu_dell_ubuntu_01/platzi/pip_y_entornos_virtuales/py-project/39_Spark_y_Big_Data_Fundamentos\n",
      "total 14524\n",
      "drwxr-xr-x 3 compu_dell_ubuntu_01 compu_dell_ubuntu_01    4096 Oct 26 12:13 .\n",
      "drwxr-xr-x 5 compu_dell_ubuntu_01 compu_dell_ubuntu_01    4096 Oct  7 13:11 ..\n",
      "-rw-r--r-- 1 compu_dell_ubuntu_01 compu_dell_ubuntu_01     946 Oct  7 13:11 deporte.csv\n",
      "drwxr-xr-x 2 compu_dell_ubuntu_01 compu_dell_ubuntu_01    4096 Oct 26 12:13 deporte_partitions\n",
      "-rw-r--r-- 1 compu_dell_ubuntu_01 compu_dell_ubuntu_01 2764536 Oct  7 13:11 deportista.csv\n",
      "-rw-r--r-- 1 compu_dell_ubuntu_01 compu_dell_ubuntu_01 2807091 Oct  7 13:11 deportista2.csv\n",
      "-rw-r--r-- 1 compu_dell_ubuntu_01 compu_dell_ubuntu_01 2776782 Oct  7 13:11 deportistaError.csv\n",
      "-rw-r--r-- 1 compu_dell_ubuntu_01 compu_dell_ubuntu_01   32942 Oct 24 13:40 evento.csv\n",
      "-rw-r--r-- 1 compu_dell_ubuntu_01 compu_dell_ubuntu_01    1978 Oct  7 13:11 juegos.csv\n",
      "-rw-r--r-- 1 compu_dell_ubuntu_01 compu_dell_ubuntu_01  255853 Oct  7 13:11 modelo_relacional.jpg\n",
      "-rw-r--r-- 1 compu_dell_ubuntu_01 compu_dell_ubuntu_01   23606 Oct  7 13:11 paises.csv\n",
      "-rw-r--r-- 1 compu_dell_ubuntu_01 compu_dell_ubuntu_01 6172768 Oct 24 14:13 resultados.csv\n"
     ]
    }
   ],
   "source": [
    "!pwd\n",
    "!ls -lac ./curso_spark_git_clone/curso-apache-spark-platzi/files"
   ]
  },
  {
   "cell_type": "code",
   "execution_count": 16,
   "id": "2d910e12",
   "metadata": {},
   "outputs": [],
   "source": [
    "general_path='./curso_spark_git_clone/curso-apache-spark-platzi/files/'"
   ]
  },
  {
   "cell_type": "code",
   "execution_count": 36,
   "id": "01669385",
   "metadata": {},
   "outputs": [
    {
     "name": "stdout",
     "output_type": "stream",
     "text": [
      "deporte_df\n",
      "root\n",
      " |-- deporte_id: integer (nullable = true)\n",
      " |-- deporte: string (nullable = true)\n",
      "\n",
      "deportista_df\n",
      "root\n",
      " |-- deportista_id: integer (nullable = true)\n",
      " |-- nombre: string (nullable = true)\n",
      " |-- genero: integer (nullable = true)\n",
      " |-- edad: integer (nullable = true)\n",
      " |-- altura: integer (nullable = true)\n",
      " |-- peso: double (nullable = true)\n",
      " |-- equipo_id: integer (nullable = true)\n",
      "\n",
      "deportista2_df\n",
      "root\n",
      " |-- _c0: integer (nullable = true)\n",
      " |-- _c1: string (nullable = true)\n",
      " |-- _c2: integer (nullable = true)\n",
      " |-- _c3: integer (nullable = true)\n",
      " |-- _c4: integer (nullable = true)\n",
      " |-- _c5: double (nullable = true)\n",
      " |-- _c6: integer (nullable = true)\n",
      "\n",
      "evento_df\n",
      "root\n",
      " |-- evento_id: integer (nullable = true)\n",
      " |-- evento: string (nullable = true)\n",
      " |-- deporte_id: integer (nullable = true)\n",
      "\n",
      "juegos_df\n",
      "root\n",
      " |-- _c0: integer (nullable = true)\n",
      " |-- nombre_juego: string (nullable = true)\n",
      " |-- annio: integer (nullable = true)\n",
      " |-- temporada: string (nullable = true)\n",
      " |-- ciudad: string (nullable = true)\n",
      "\n",
      "paises_df\n",
      "root\n",
      " |-- id: integer (nullable = true)\n",
      " |-- equipo: string (nullable = true)\n",
      " |-- sigla: string (nullable = true)\n",
      "\n",
      "resultados_df\n",
      "root\n",
      " |-- resultado_id: integer (nullable = true)\n",
      " |-- medalla: string (nullable = true)\n",
      " |-- deportista_id: integer (nullable = true)\n",
      " |-- juego_id: integer (nullable = true)\n",
      " |-- evento_id: integer (nullable = true)\n",
      "\n"
     ]
    }
   ],
   "source": [
    "deporte_df=spark.read.options(inferSchema=True, header=True, delimiter=',')\\\n",
    "    .csv(general_path + 'deporte.csv')\n",
    "\n",
    "deportista_df=spark.read.options(inferSchema=True, header=True, delimiter=',')\\\n",
    "    .csv(general_path+'deportista.csv')\n",
    "\n",
    "deportista2_df=spark.read.options(inferSchema=True, header=False, delimiter=',')\\\n",
    "    .csv(general_path+'deportista2.csv')\n",
    "\n",
    "evento_df=spark.read.options(inferSchema=True, header=True, delimiter=',')\\\n",
    "    .csv(general_path+'evento.csv')\n",
    "\n",
    "juegos_df=spark.read.options(inferSchema=True, header=True, delimiter=',')\\\n",
    "    .csv(general_path+'juegos.csv')\n",
    "\n",
    "paises_df=spark.read.options(inferSchema=True, header=True, delimiter=',')\\\n",
    "    .csv(general_path+'paises.csv')\n",
    "\n",
    "resultados_df=spark.read.options(inferSchema=True, header=True, delimiter=',')\\\n",
    "    .csv(general_path+'resultados.csv')\n",
    "\n",
    "print('deporte_df')\n",
    "deporte_df.printSchema()\n",
    "print('deportista_df')\n",
    "deportista_df.printSchema()\n",
    "print('deportista2_df')\n",
    "deportista2_df.printSchema()\n",
    "print('evento_df')\n",
    "evento_df.printSchema()\n",
    "print('juegos_df')\n",
    "juegos_df.printSchema()\n",
    "print('paises_df')\n",
    "paises_df.printSchema()\n",
    "print('resultados_df')\n",
    "resultados_df.printSchema()"
   ]
  },
  {
   "cell_type": "code",
   "execution_count": 78,
   "id": "71b3cb55",
   "metadata": {},
   "outputs": [
    {
     "name": "stdout",
     "output_type": "stream",
     "text": [
      "+-------------+------+------+----+------+----+---------+\n",
      "|deportista_id|nombre|genero|edad|altura|peso|equipo_id|\n",
      "+-------------+------+------+----+------+----+---------+\n",
      "+-------------+------+------+----+------+----+---------+\n",
      "\n",
      "True\n"
     ]
    }
   ],
   "source": [
    "new_deportista_df = deportista_df.union(deportista2_df)\n",
    "new_deportista_df.filter(new_deportista_df.deportista_id=='_c0').show()\n",
    "\n",
    "print(new_deportista_df.count() == deportista_df.count()+deportista2_df.count())\n"
   ]
  },
  {
   "cell_type": "code",
   "execution_count": 93,
   "id": "8a6f7e50",
   "metadata": {},
   "outputs": [
    {
     "name": "stdout",
     "output_type": "stream",
     "text": [
      "+-------------+--------------------+------+----+------+-----+-------------+\n",
      "|deportista_id|              nombre|genero|edad|altura| peso|       equipo|\n",
      "+-------------+--------------------+------+----+------+-----+-------------+\n",
      "|       132627|            Yao Ming|  male|  20|   226|141.0|        China|\n",
      "|        16639|Tommy Loren Burleson|  male|  20|   223|102.0|United States|\n",
      "|       104059|Arvydas Romas Sab...|  male|  23|   223|122.0| Soviet Union|\n",
      "|         9407|      Gunther Behnke|  male|  29|   221|114.0|      Germany|\n",
      "|       134621|        Zhang Zhaoxu|  male|  24|   221|110.0|        China|\n",
      "|        30409|Roberto Dueas Her...|  male|  24|   221|137.0|        Spain|\n",
      "|        71228|Lucien James Luc ...|  male|  19|   220|135.0|    Australia|\n",
      "|        91087|Viktor Aleksandro...|  male|  31|   220|112.0| Soviet Union|\n",
      "|       120589|Volodymyr Petrovy...|  male|  18|   220|110.0| Soviet Union|\n",
      "|        83657|Dmitry Aleksandro...|  male|  23|   219|104.0|       Russia|\n",
      "|        98731|Peter John Ramos ...|  male|  19|   219|113.0|  Puerto Rico|\n",
      "|        11963|            Uwe Blab|  male|  22|   218|110.0| West Germany|\n",
      "|        69452|            Li Muhao|  male|  24|   218|115.0|        China|\n",
      "|        17682|Andrew Andy Campbell|  male|  19|   218| 93.0|    Australia|\n",
      "|       129416|Frdric Jean Santo...|  male|  23|   218|110.0|       France|\n",
      "+-------------+--------------------+------+----+------+-----+-------------+\n",
      "only showing top 15 rows\n",
      "\n"
     ]
    },
    {
     "name": "stderr",
     "output_type": "stream",
     "text": [
      "\r",
      "[Stage 222:============================>                            (1 + 1) / 2]\r",
      "\r",
      "                                                                                \r"
     ]
    }
   ],
   "source": [
    "dep_team = new_deportista_df.join(paises_df, new_deportista_df.equipo_id == paises_df.id, 'left')\n",
    "dep_team = dep_team.select('deportista_id', 'nombre', 'genero', 'edad', 'altura', 'peso', 'equipo')\n",
    "dep_team = dep_team.withColumn('genero', f.when(dep_team.genero==1, 'male').otherwise('female'))\n",
    "dep_team.orderBy(f.desc('altura')).show(15)"
   ]
  },
  {
   "cell_type": "code",
   "execution_count": 99,
   "id": "4d2191b3",
   "metadata": {},
   "outputs": [
    {
     "name": "stdout",
     "output_type": "stream",
     "text": [
      "+------------+-------+------+--------+---------+\n",
      "|resultado_id|medalla|dep_id|juego_id|evento_id|\n",
      "+------------+-------+------+--------+---------+\n",
      "|           1|     NA|     1|      39|        1|\n",
      "|           2|     NA|     2|      49|        2|\n",
      "|           3|     NA|     3|       7|        3|\n",
      "|           4|   Gold|     4|       2|        4|\n",
      "|           5|     NA|     5|      36|        5|\n",
      "+------------+-------+------+--------+---------+\n",
      "only showing top 5 rows\n",
      "\n"
     ]
    }
   ],
   "source": [
    "resultados_df = resultados_df.withColumnRenamed(\"deportista_id\", \"dep_id\")\n",
    "resultados_df.show(5)"
   ]
  },
  {
   "cell_type": "code",
   "execution_count": 117,
   "id": "925dc7ef",
   "metadata": {},
   "outputs": [
    {
     "name": "stdout",
     "output_type": "stream",
     "text": [
      "+-------------+--------------------+------+----+------+----+--------------+------------+-------+------+--------+---------+\n",
      "|deportista_id|              nombre|genero|edad|altura|peso|        equipo|resultado_id|medalla|dep_id|juego_id|evento_id|\n",
      "+-------------+--------------------+------+----+------+----+--------------+------------+-------+------+--------+---------+\n",
      "|            1|           A Dijiang|  male|  24|   180|80.0|         China|           1|     NA|     1|      39|        1|\n",
      "|            2|            A Lamusi|  male|  23|   170|60.0|         China|           2|     NA|     2|      49|        2|\n",
      "|            3| Gunnar Nielsen Aaby|  male|  24|     0| 0.0|       Denmark|           3|     NA|     3|       7|        3|\n",
      "|            4|Edgar Lindenau Aabye|  male|  34|     0| 0.0|Denmark/Sweden|           4|   Gold|     4|       2|        4|\n",
      "|            5|Christine Jacoba ...|female|  21|   185|82.0|   Netherlands|          10|     NA|     5|      40|        6|\n",
      "+-------------+--------------------+------+----+------+----+--------------+------------+-------+------+--------+---------+\n",
      "only showing top 5 rows\n",
      "\n",
      "+-------------+--------------------+------+----+------+----+--------------+-------+--------+\n",
      "|deportista_id|              nombre|genero|edad|altura|peso|        equipo|medalla|juego_id|\n",
      "+-------------+--------------------+------+----+------+----+--------------+-------+--------+\n",
      "|            1|           A Dijiang|  male|  24|   180|80.0|         China|     NA|      39|\n",
      "|            2|            A Lamusi|  male|  23|   170|60.0|         China|     NA|      49|\n",
      "|            3| Gunnar Nielsen Aaby|  male|  24|     0| 0.0|       Denmark|     NA|       7|\n",
      "|            4|Edgar Lindenau Aabye|  male|  34|     0| 0.0|Denmark/Sweden|   Gold|       2|\n",
      "|            5|Christine Jacoba ...|female|  21|   185|82.0|   Netherlands|     NA|      40|\n",
      "|            5|Christine Jacoba ...|female|  21|   185|82.0|   Netherlands|     NA|      40|\n",
      "|            5|Christine Jacoba ...|female|  21|   185|82.0|   Netherlands|     NA|      38|\n",
      "|            5|Christine Jacoba ...|female|  21|   185|82.0|   Netherlands|     NA|      38|\n",
      "|            5|Christine Jacoba ...|female|  21|   185|82.0|   Netherlands|     NA|      36|\n",
      "|            5|Christine Jacoba ...|female|  21|   185|82.0|   Netherlands|     NA|      36|\n",
      "|            6|     Per Knut Aaland|  male|  31|   188|75.0| United States|     NA|      40|\n",
      "|            6|     Per Knut Aaland|  male|  31|   188|75.0| United States|     NA|      40|\n",
      "|            6|     Per Knut Aaland|  male|  31|   188|75.0| United States|     NA|      40|\n",
      "|            6|     Per Knut Aaland|  male|  31|   188|75.0| United States|     NA|      40|\n",
      "|            6|     Per Knut Aaland|  male|  31|   188|75.0| United States|     NA|      38|\n",
      "+-------------+--------------------+------+----+------+----+--------------+-------+--------+\n",
      "only showing top 15 rows\n",
      "\n"
     ]
    }
   ],
   "source": [
    "dep_team_year = dep_team.join(resultados_df, dep_team.deportista_id==resultados_df.dep_id, 'left')\n",
    "dep_team_year.show(5)\n",
    "dep_team_year = dep_team_year.select('deportista_id', 'nombre', 'genero', 'edad', 'altura', 'peso', 'equipo', 'medalla', 'juego_id')\n",
    "dep_team_year.show(15)"
   ]
  },
  {
   "cell_type": "code",
   "execution_count": 108,
   "id": "69a3d366",
   "metadata": {},
   "outputs": [
    {
     "name": "stdout",
     "output_type": "stream",
     "text": [
      "+-------+-------------+-----+---------+---------+\n",
      "|play_id| nombre_juego|annio|temporada|   ciudad|\n",
      "+-------+-------------+-----+---------+---------+\n",
      "|      1|  1896 Verano| 1896|   Verano|   Athina|\n",
      "|      2|  1900 Verano| 1900|   Verano|    Paris|\n",
      "|      3|  1904 Verano| 1904|   Verano|St. Louis|\n",
      "|      4|  1906 Verano| 1906|   Verano|   Athina|\n",
      "|      5|  1908 Verano| 1908|   Verano|   London|\n",
      "|      6|  1912 Verano| 1912|   Verano|Stockholm|\n",
      "|      7|  1920 Verano| 1920|   Verano|Antwerpen|\n",
      "|      8|1924 Invierno| 1924| Invierno| Chamonix|\n",
      "+-------+-------------+-----+---------+---------+\n",
      "only showing top 8 rows\n",
      "\n"
     ]
    },
    {
     "name": "stderr",
     "output_type": "stream",
     "text": [
      "23/11/13 19:39:43 WARN CSVHeaderChecker: CSV header does not conform to the schema.\n",
      " Header: , nombre_juego, annio, temporada, ciudad\n",
      " Schema: _c0, nombre_juego, annio, temporada, ciudad\n",
      "Expected: _c0 but found: \n",
      "CSV file: file:///home/compu_dell_ubuntu_01/platzi/pip_y_entornos_virtuales/py-project/39_Spark_y_Big_Data_Fundamentos/curso_spark_git_clone/curso-apache-spark-platzi/files/juegos.csv\n"
     ]
    }
   ],
   "source": [
    "juegos_df=juegos_df.withColumnRenamed('_c0', 'play_id')\n",
    "juegos_df.show(8)"
   ]
  },
  {
   "cell_type": "code",
   "execution_count": 118,
   "id": "ac5875f2",
   "metadata": {},
   "outputs": [],
   "source": [
    "dep_team_year = dep_team_year.join(juegos_df, dep_team_year.juego_id==juegos_df.play_id, 'left')"
   ]
  },
  {
   "cell_type": "code",
   "execution_count": 127,
   "id": "e3e00c15",
   "metadata": {},
   "outputs": [
    {
     "name": "stderr",
     "output_type": "stream",
     "text": [
      "23/11/13 20:00:28 WARN CSVHeaderChecker: CSV header does not conform to the schema.\n",
      " Header: , annio, temporada, ciudad\n",
      " Schema: _c0, annio, temporada, ciudad\n",
      "Expected: _c0 but found: \n",
      "CSV file: file:///home/compu_dell_ubuntu_01/platzi/pip_y_entornos_virtuales/py-project/39_Spark_y_Big_Data_Fundamentos/curso_spark_git_clone/curso-apache-spark-platzi/files/juegos.csv\n"
     ]
    },
    {
     "name": "stdout",
     "output_type": "stream",
     "text": [
      "+-------------+--------------------+------+----+------+----+-------------+-------+-----+---------+--------------+\n",
      "|deportista_id|              nombre|genero|edad|altura|peso|       equipo|medalla|annio|temporada|        ciudad|\n",
      "+-------------+--------------------+------+----+------+----+-------------+-------+-----+---------+--------------+\n",
      "|           20|  Kjetil Andr Aamodt|  male|  20|   176|85.0|       Norway| Silver| 1994| Invierno|   Lillehammer|\n",
      "|        67818|       Lee Chong Wei|  male|  21|   170|68.0|     Malaysia| Silver| 2016|   Verano|Rio de Janeiro|\n",
      "|           90|Tamila Rashidovna...|female|  21|   163|60.0|       Russia| Silver| 2004|   Verano|        Athina|\n",
      "|        67865|          Lee EunSil|female|  23|   167|55.0|  South Korea| Silver| 2004|   Verano|        Athina|\n",
      "|           20|  Kjetil Andr Aamodt|  male|  20|   176|85.0|       Norway| Silver| 1994| Invierno|   Lillehammer|\n",
      "|        67818|       Lee Chong Wei|  male|  21|   170|68.0|     Malaysia| Silver| 2012|   Verano|        London|\n",
      "|           25|    Alf Lied Aanning|  male|  24|     0| 0.0|       Norway| Silver| 1920|   Verano|     Antwerpen|\n",
      "|        67844|          Lee DongSu|  male|  26|   182|73.0|South Korea-2| Silver| 2004|   Verano|        Athina|\n",
      "+-------------+--------------------+------+----+------+----+-------------+-------+-----+---------+--------------+\n",
      "only showing top 8 rows\n",
      "\n"
     ]
    }
   ],
   "source": [
    "dep_team_year = dep_team_year.select('deportista_id', 'nombre', 'genero', 'edad', 'altura', 'peso', 'equipo', 'medalla', 'annio', 'temporada', 'ciudad')\n",
    "dep_team_year.orderBy(f.desc('medalla')).show(8)"
   ]
  },
  {
   "cell_type": "code",
   "execution_count": 135,
   "id": "68f1d91e",
   "metadata": {},
   "outputs": [
    {
     "name": "stderr",
     "output_type": "stream",
     "text": [
      "23/11/13 20:03:57 WARN CSVHeaderChecker: CSV header does not conform to the schema.\n",
      " Header: \n",
      " Schema: _c0\n",
      "Expected: _c0 but found: \n",
      "CSV file: file:///home/compu_dell_ubuntu_01/platzi/pip_y_entornos_virtuales/py-project/39_Spark_y_Big_Data_Fundamentos/curso_spark_git_clone/curso-apache-spark-platzi/files/juegos.csv\n",
      "[Stage 311:============================>                            (1 + 1) / 2]\r"
     ]
    },
    {
     "name": "stdout",
     "output_type": "stream",
     "text": [
      "+--------------------+-------+------------+\n",
      "|              nombre|medalla|nombre_total|\n",
      "+--------------------+-------+------------+\n",
      "|   Aziza Abdelfattah|     NA|        null|\n",
      "|Ahmed Mohamed Ach...|     NA|        null|\n",
      "|Michael B. Mike Adam|   Gold|        null|\n",
      "|Tadeusz Ralf Adam...|     NA|        null|\n",
      "|       Charles Adamu|     NA|        null|\n",
      "|Felicia Afrsiloai...| Bronze|        null|\n",
      "|Muhammad Afzal Manna| Silver|        null|\n",
      "|Ernst Gunnar kerlund|   Gold|        null|\n",
      "|      Youssef Akrout|     NA|        null|\n",
      "|      Armah Akuetteh|     NA|        null|\n",
      "|   Bandar AlShammari|     NA|        null|\n",
      "|Ebbe Gustav Berti...| Bronze|        null|\n",
      "|     Pierre Albrecht|     NA|        null|\n",
      "|    Johnson O. Amoah|     NA|        null|\n",
      "|      Vijay Amritraj|     NA|        null|\n",
      "|John Franklin And...|     NA|        null|\n",
      "|     Jonna Andersson| Silver|        null|\n",
      "|Rolf Siljan Andre...| Silver|        null|\n",
      "|Adriana Angeles L...|     NA|        null|\n",
      "|        Peter Anieke|     NA|        null|\n",
      "+--------------------+-------+------------+\n",
      "only showing top 20 rows\n",
      "\n"
     ]
    },
    {
     "name": "stderr",
     "output_type": "stream",
     "text": [
      "\r",
      "                                                                                \r"
     ]
    }
   ],
   "source": [
    "dep_team_year.groupBy('nombre', 'medalla')\\\n",
    "     .agg(f.sum('nombre').alias('nombre_total'))\\\n",
    "     .orderBy(f.desc('nombre_total')).show()"
   ]
  },
  {
   "cell_type": "code",
   "execution_count": null,
   "id": "4cd0f9fc",
   "metadata": {},
   "outputs": [],
   "source": []
  },
  {
   "cell_type": "code",
   "execution_count": 41,
   "id": "8e2b962d",
   "metadata": {},
   "outputs": [
    {
     "name": "stdout",
     "output_type": "stream",
     "text": [
      "/home/compu_dell_ubuntu_01/platzi/pip_y_entornos_virtuales/py-project/39_Spark_y_Big_Data_Fundamentos\n",
      "total 1792\n",
      "drwxr-xr-x  4 compu_dell_ubuntu_01 compu_dell_ubuntu_01   4096 Sep  8 11:11 .\n",
      "drwxr-xr-x 40 compu_dell_ubuntu_01 compu_dell_ubuntu_01   4096 Nov 12 11:15 ..\n",
      "drwxr-xr-x  8 compu_dell_ubuntu_01 compu_dell_ubuntu_01   4096 Jun 21 12:15 .git\n",
      "-rw-r--r--  1 compu_dell_ubuntu_01 compu_dell_ubuntu_01   4662 Jun 13 16:44 .gitignore\n",
      "drwxr-xr-x  2 compu_dell_ubuntu_01 compu_dell_ubuntu_01   4096 Sep  8 11:10 .ipynb_checkpoints\n",
      "-rw-r--r--  1 compu_dell_ubuntu_01 compu_dell_ubuntu_01 377574 Sep  8 11:11 09_manipulación_transformacion_de_datos_Pandas_NumPy_notes.ipynb\n",
      "-rw-r--r--  1 compu_dell_ubuntu_01 compu_dell_ubuntu_01    385 Jun 21 12:12 README.md\n",
      "-rw-r--r--  1 compu_dell_ubuntu_01 compu_dell_ubuntu_01  51161 Jun 14 17:58 bestsellers-with-categories.csv\n",
      "-rw-r--r--  1 compu_dell_ubuntu_01 compu_dell_ubuntu_01 377399 Jul 24 00:10 english_notes.ipynb\n",
      "-rw-r--r--  1 compu_dell_ubuntu_01 compu_dell_ubuntu_01 985562 Jun 13 14:31 hpcharactersdataraw.json\n",
      "lrwxrwxrwx  1 compu_dell_ubuntu_01 compu_dell_ubuntu_01     69 Jun 13 14:43 plprojects -> /home/compu_dell_ubuntu_01/platzi/pip_y_entornos_virtuales/py-project\n"
     ]
    }
   ],
   "source": [
    "!pwd \n",
    "!ls -lac /home/compu_dell_ubuntu_01/platzi/pip_y_entornos_virtuales/py-project/09_manipulación_transformacion_de_datos_Pandas_NumPy"
   ]
  },
  {
   "cell_type": "code",
   "execution_count": 42,
   "id": "d4689206",
   "metadata": {},
   "outputs": [],
   "source": [
    "json_path='/home/compu_dell_ubuntu_01/platzi/pip_y_entornos_virtuales/py-project/09_manipulación_transformacion_de_datos_Pandas_NumPy/'\n"
   ]
  },
  {
   "cell_type": "code",
   "execution_count": 45,
   "id": "61212388",
   "metadata": {},
   "outputs": [
    {
     "name": "stdout",
     "output_type": "stream",
     "text": [
      "root\n",
      " |-- Blood: string (nullable = true)\n",
      " |-- Descr: string (nullable = true)\n",
      " |-- Gender: string (nullable = true)\n",
      " |-- Link: string (nullable = true)\n",
      " |-- Name: string (nullable = true)\n",
      " |-- Profession: string (nullable = true)\n",
      " |-- School: string (nullable = true)\n",
      " |-- Species/Race: string (nullable = true)\n",
      "\n"
     ]
    }
   ],
   "source": [
    "json_df=spark.read.options(multiline=True)\\\n",
    "    .json(json_path+'hpcharactersdataraw.json')\n",
    "\n",
    "json_df.printSchema()"
   ]
  },
  {
   "cell_type": "code",
   "execution_count": 49,
   "id": "e3484410",
   "metadata": {},
   "outputs": [],
   "source": [
    "schema=StructType([\n",
    "    StructField('Name', StringType(), True),\n",
    "    StructField('Link', StringType(), False),\n",
    "    StructField('Descr', StringType(), False),\n",
    "    StructField('Gender', StringType(), False),\n",
    "    StructField('Species/Race', StringType(), False),\n",
    "    StructField('Blood', StringType(), False),\n",
    "    StructField('School', StringType(), False),\n",
    "    StructField('Profession', StringType(), False)\n",
    "    \n",
    "])"
   ]
  },
  {
   "cell_type": "code",
   "execution_count": 52,
   "id": "46bd9cad",
   "metadata": {},
   "outputs": [
    {
     "name": "stdout",
     "output_type": "stream",
     "text": [
      "root\n",
      " |-- Name: string (nullable = true)\n",
      " |-- Link: string (nullable = true)\n",
      " |-- Descr: string (nullable = true)\n",
      " |-- Gender: string (nullable = true)\n",
      " |-- Species/Race: string (nullable = true)\n",
      " |-- Blood: string (nullable = true)\n",
      " |-- School: string (nullable = true)\n",
      " |-- Profession: string (nullable = true)\n",
      "\n"
     ]
    }
   ],
   "source": [
    "json_df_02=spark.read.options(multiline=True).schema(schema)\\\n",
    "    .json(json_path+'hpcharactersdataraw.json')\n",
    "\n",
    "json_df_02.printSchema()"
   ]
  },
  {
   "cell_type": "code",
   "execution_count": 58,
   "id": "6800cbce",
   "metadata": {},
   "outputs": [
    {
     "name": "stdout",
     "output_type": "stream",
     "text": [
      "+--------------------+--------------------+--------------------+------+------------+-----------+--------------------+--------------------+\n",
      "|                Name|                Link|               Descr|Gender|Species/Race|      Blood|              School|          Profession|\n",
      "+--------------------+--------------------+--------------------+------+------------+-----------+--------------------+--------------------+\n",
      "|         Mrs. Abbott|https://www.hp-le...|Mrs. Abbott was t...|Female|       Witch|Muggle-born|             Unknown|             Unknown|\n",
      "|       Hannah Abbott|https://www.hp-le...|Hannah Abbott is ...|Female|       Witch| Half-blood|Hogwarts - Huffle...|Landlady of the L...|\n",
      "|       Abel Treetops|https://www.hp-le...|Abel Treetops was...|  Male|      Wizard|    Unknown|             Unknown|             Unknown|\n",
      "|    Euan Abercrombie|https://www.hp-le...|Euan Abercrombie ...|  Male|      Wizard|    Unknown|Hogwarts - Gryffi...|             Unknown|\n",
      "|Aberforth Dumbledore|https://www.hp-le...|Aberforth Dumbled...|  Male|      Wizard| Half-blood|  Hogwarts - Student|              Barman|\n",
      "|           Abernathy|https://www.hp-le...|Abernathy was Tin...|  Male|      Wizard|    Unknown|             Unknown|MACUSA employee, ...|\n",
      "|   Abraham Peasegood|https://www.hp-le...|Abraham Peasegood...|  Male|      Wizard|    Unknown|             Unknown|             Unknown|\n",
      "|      Abraham Potter|https://www.hp-le...|Abraham Potter wa...|  Male|      Wizard|    Unknown|             Unknown|               Auror|\n",
      "|      Abraxas Malfoy|https://www.hp-le...|Abraxas Malfoy wa...|  Male|      Wizard| Pure blood|             Unknown|             Unknown|\n",
      "|   Achilles Tolliver|https://www.hp-le...|Achilles Tolliver...|  Male|      Wizard|    Unknown|             Unknown|               Auror|\n",
      "|    Stewart Ackerley|https://www.hp-le...|Stewart Ackerley ...|  Male|      Wizard|    Unknown|Hogwarts - Ravenc...|             Unknown|\n",
      "|   Adalbert Waffling|https://www.hp-le...|Adalbert Waffling...|  Male|      Wizard|    Unknown|             Unknown|              Author|\n",
      "|        Adrian Pucey|https://www.hp-le...|Adrian Pucey is a...|  Male|      Wizard|    Unknown|Hogwarts - Slytherin|             Unknown|\n",
      "|       Adrian Tutley|https://www.hp-le...|Adrian Tutley was...|  Male|      Wizard|    Unknown|             Unknown|             Unknown|\n",
      "|three African wiz...|https://www.hp-le...|Harry saw these t...|   NaN|     Unknown|    Unknown|             Unknown|             Unknown|\n",
      "|        Agatha Chubb|https://www.hp-le...|Agatha Chubb was ...|Female|       Witch|    Unknown|             Unknown|Expert in ancient...|\n",
      "|        Agatha Timms|https://www.hp-le...|Agatha Timms was ...|Female|       Witch|    Unknown|             Unknown|          Eel farmer|\n",
      "|   Agilbert Fontaine|https://www.hp-le...|Agilbert Fontaine...|  Male|      Wizard|    Unknown|             Unknown|Headmaster of Ilv...|\n",
      "|               Agnes|https://www.hp-le...|Agnes was a patie...|Female|     Unknown|    Unknown|             Unknown|             Unknown|\n",
      "|   Cornelius Agrippa|https://www.hp-le...|Heinrich Corneliu...|  Male|      Wizard|    Unknown|             Unknown|  Scholar and author|\n",
      "+--------------------+--------------------+--------------------+------+------------+-----------+--------------------+--------------------+\n",
      "only showing top 20 rows\n",
      "\n"
     ]
    }
   ],
   "source": [
    "json_df_02.show()"
   ]
  },
  {
   "cell_type": "code",
   "execution_count": 63,
   "id": "ba895b88",
   "metadata": {},
   "outputs": [
    {
     "name": "stdout",
     "output_type": "stream",
     "text": [
      "+------------------+--------------------+--------------------+------+------------+-----------+--------------------+--------------------+\n",
      "|              Name|                Link|               Descr|Gender|Species/Race|      Blood|              School|          Profession|\n",
      "+------------------+--------------------+--------------------+------+------------+-----------+--------------------+--------------------+\n",
      "|       Mrs. Abbott|https://www.hp-le...|Mrs. Abbott was t...|Female|       Witch|Muggle-born|             Unknown|             Unknown|\n",
      "|     Hannah Abbott|https://www.hp-le...|Hannah Abbott is ...|Female|       Witch| Half-blood|Hogwarts - Huffle...|Landlady of the L...|\n",
      "|      Agatha Chubb|https://www.hp-le...|Agatha Chubb was ...|Female|       Witch|    Unknown|             Unknown|Expert in ancient...|\n",
      "|      Agatha Timms|https://www.hp-le...|Agatha Timms was ...|Female|       Witch|    Unknown|             Unknown|          Eel farmer|\n",
      "|             Agnes|https://www.hp-le...|Agnes was a patie...|Female|     Unknown|    Unknown|             Unknown|             Unknown|\n",
      "|  Alberta Toothill|https://www.hp-le...|Famous wizarding ...|Female|       Witch|    Unknown|             Unknown|            Duellist|\n",
      "|     Alecto Carrow|https://www.hp-le...|Alecto and Amycus...|Female|       Witch| Pure blood|    Hogwarts - Staff|             Unknown|\n",
      "|  Alice Longbottom|https://www.hp-le...|Alice Longbottom,...|Female|       Witch|    Unknown|             Unknown|               Auror|\n",
      "|    Alicia Spinnet|https://www.hp-le...|Alicia Spinnet wa...|Female|       Witch|    Unknown|Hogwarts - Gryffi...|             Unknown|\n",
      "|  Alejandra Alonso|https://www.hp-le...|Alejandra Alonso ...|Female|       Witch|    Unknown|             Unknown|Quidditch player ...|\n",
      "|           Altheda|https://www.hp-le...|The second of thr...|Female|     Unknown|    Unknown|             Unknown|             Unknown|\n",
      "|             Amata|https://www.hp-le...|The third of thre...|Female|     Unknown|    Unknown|             Unknown|             Unknown|\n",
      "|Amelia Susan Bones|https://www.hp-le...|Amelia Susan Bone...|Female|       Witch|    Unknown|             Unknown|Head, Department ...|\n",
      "|        Amy Benson|https://www.hp-le...|Amy Benson was a ...|Female|      Muggle|     Muggle|             Unknown|             Unknown|\n",
      "|   Andromeda Tonks|https://www.hp-le...|Andromeda Tonks w...|Female|       Witch| Pure blood|Hogwarts - Slytherin|             Unknown|\n",
      "|  Angelina Johnson|https://www.hp-le...|Angelina Johnson ...|Female|       Witch|    Unknown|Hogwarts - Gryffi...|             Unknown|\n",
      "|       Annis Black|https://www.hp-le...|Annis Black was a...|Female|         Hag|    Unknown|             Unknown|             Unknown|\n",
      "| Apolline Delacour|https://www.hp-le...|Apolline Delacour...|Female|     Unknown|    Unknown|             Unknown|             Unknown|\n",
      "|         Mrs. Figg|https://www.hp-le...|Arabella Doreen F...|Female|       Squib|    Unknown|             Unknown|Babysitter, raise...|\n",
      "| Araminta Meliflua|https://www.hp-le...|Araminta Meliflua...|Female|      wizard| Pure blood|             Unknown|             Unknown|\n",
      "+------------------+--------------------+--------------------+------+------------+-----------+--------------------+--------------------+\n",
      "only showing top 20 rows\n",
      "\n"
     ]
    }
   ],
   "source": [
    "json_df_02.filter(json_df_02.Gender == 'Female').show()"
   ]
  },
  {
   "cell_type": "code",
   "execution_count": null,
   "id": "b1b8983e",
   "metadata": {},
   "outputs": [],
   "source": []
  },
  {
   "cell_type": "code",
   "execution_count": null,
   "id": "18b5ac71",
   "metadata": {},
   "outputs": [],
   "source": []
  },
  {
   "cell_type": "code",
   "execution_count": null,
   "id": "f1c7f276",
   "metadata": {},
   "outputs": [],
   "source": []
  },
  {
   "cell_type": "code",
   "execution_count": null,
   "id": "b2028e56",
   "metadata": {},
   "outputs": [],
   "source": []
  },
  {
   "cell_type": "code",
   "execution_count": null,
   "id": "3c3e5a45",
   "metadata": {},
   "outputs": [],
   "source": []
  },
  {
   "cell_type": "code",
   "execution_count": null,
   "id": "e2d213a1",
   "metadata": {},
   "outputs": [],
   "source": []
  },
  {
   "cell_type": "code",
   "execution_count": 46,
   "id": "081f63fc",
   "metadata": {},
   "outputs": [
    {
     "name": "stdout",
     "output_type": "stream",
     "text": [
      "+-----------+--------------------+------+--------------------+--------------------+--------------------+--------------------+------------+\n",
      "|      Blood|               Descr|Gender|                Link|                Name|          Profession|              School|Species/Race|\n",
      "+-----------+--------------------+------+--------------------+--------------------+--------------------+--------------------+------------+\n",
      "|Muggle-born|Mrs. Abbott was t...|Female|https://www.hp-le...|         Mrs. Abbott|             Unknown|             Unknown|       Witch|\n",
      "| Half-blood|Hannah Abbott is ...|Female|https://www.hp-le...|       Hannah Abbott|Landlady of the L...|Hogwarts - Huffle...|       Witch|\n",
      "|    Unknown|Abel Treetops was...|  Male|https://www.hp-le...|       Abel Treetops|             Unknown|             Unknown|      Wizard|\n",
      "|    Unknown|Euan Abercrombie ...|  Male|https://www.hp-le...|    Euan Abercrombie|             Unknown|Hogwarts - Gryffi...|      Wizard|\n",
      "| Half-blood|Aberforth Dumbled...|  Male|https://www.hp-le...|Aberforth Dumbledore|              Barman|  Hogwarts - Student|      Wizard|\n",
      "|    Unknown|Abernathy was Tin...|  Male|https://www.hp-le...|           Abernathy|MACUSA employee, ...|             Unknown|      Wizard|\n",
      "|    Unknown|Abraham Peasegood...|  Male|https://www.hp-le...|   Abraham Peasegood|             Unknown|             Unknown|      Wizard|\n",
      "|    Unknown|Abraham Potter wa...|  Male|https://www.hp-le...|      Abraham Potter|               Auror|             Unknown|      Wizard|\n",
      "| Pure blood|Abraxas Malfoy wa...|  Male|https://www.hp-le...|      Abraxas Malfoy|             Unknown|             Unknown|      Wizard|\n",
      "|    Unknown|Achilles Tolliver...|  Male|https://www.hp-le...|   Achilles Tolliver|               Auror|             Unknown|      Wizard|\n",
      "|    Unknown|Stewart Ackerley ...|  Male|https://www.hp-le...|    Stewart Ackerley|             Unknown|Hogwarts - Ravenc...|      Wizard|\n",
      "|    Unknown|Adalbert Waffling...|  Male|https://www.hp-le...|   Adalbert Waffling|              Author|             Unknown|      Wizard|\n",
      "|    Unknown|Adrian Pucey is a...|  Male|https://www.hp-le...|        Adrian Pucey|             Unknown|Hogwarts - Slytherin|      Wizard|\n",
      "|    Unknown|Adrian Tutley was...|  Male|https://www.hp-le...|       Adrian Tutley|             Unknown|             Unknown|      Wizard|\n",
      "|    Unknown|Harry saw these t...|   NaN|https://www.hp-le...|three African wiz...|             Unknown|             Unknown|     Unknown|\n",
      "|    Unknown|Agatha Chubb was ...|Female|https://www.hp-le...|        Agatha Chubb|Expert in ancient...|             Unknown|       Witch|\n",
      "|    Unknown|Agatha Timms was ...|Female|https://www.hp-le...|        Agatha Timms|          Eel farmer|             Unknown|       Witch|\n",
      "|    Unknown|Agilbert Fontaine...|  Male|https://www.hp-le...|   Agilbert Fontaine|Headmaster of Ilv...|             Unknown|      Wizard|\n",
      "|    Unknown|Agnes was a patie...|Female|https://www.hp-le...|               Agnes|             Unknown|             Unknown|     Unknown|\n",
      "|    Unknown|Heinrich Corneliu...|  Male|https://www.hp-le...|   Cornelius Agrippa|  Scholar and author|             Unknown|      Wizard|\n",
      "+-----------+--------------------+------+--------------------+--------------------+--------------------+--------------------+------------+\n",
      "only showing top 20 rows\n",
      "\n"
     ]
    }
   ],
   "source": [
    "json_df.show()"
   ]
  },
  {
   "cell_type": "code",
   "execution_count": null,
   "id": "430b21c5",
   "metadata": {},
   "outputs": [],
   "source": [
    "spark.stop()"
   ]
  }
 ],
 "metadata": {
  "kernelspec": {
   "display_name": "jupyter_kernel_01",
   "language": "python",
   "name": "data_trans_env"
  },
  "language_info": {
   "codemirror_mode": {
    "name": "ipython",
    "version": 3
   },
   "file_extension": ".py",
   "mimetype": "text/x-python",
   "name": "python",
   "nbconvert_exporter": "python",
   "pygments_lexer": "ipython3",
   "version": "3.11.4"
  }
 },
 "nbformat": 4,
 "nbformat_minor": 5
}
